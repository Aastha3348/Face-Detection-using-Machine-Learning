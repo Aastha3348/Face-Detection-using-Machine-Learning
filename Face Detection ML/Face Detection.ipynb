{
 "cells": [
  {
   "cell_type": "code",
   "execution_count": 1,
   "metadata": {},
   "outputs": [],
   "source": [
    "import cv2"
   ]
  },
  {
   "cell_type": "code",
   "execution_count": 2,
   "metadata": {},
   "outputs": [],
   "source": [
    "faces = cv2.CascadeClassifier(\"haarcascade_frontalface_alt.xml\")"
   ]
  },
  {
   "cell_type": "code",
   "execution_count": 3,
   "metadata": {},
   "outputs": [],
   "source": [
    "img = cv2.imread(\"Emma Stone.jpg\")"
   ]
  },
  {
   "cell_type": "code",
   "execution_count": 4,
   "metadata": {},
   "outputs": [
    {
     "data": {
      "text/plain": [
       "array([[[187, 181, 170],\n",
       "        [187, 181, 170],\n",
       "        [187, 181, 170],\n",
       "        ...,\n",
       "        [187, 179, 166],\n",
       "        [186, 178, 165],\n",
       "        [186, 178, 165]],\n",
       "\n",
       "       [[186, 180, 169],\n",
       "        [186, 180, 169],\n",
       "        [187, 181, 170],\n",
       "        ...,\n",
       "        [186, 178, 165],\n",
       "        [186, 178, 165],\n",
       "        [186, 178, 165]],\n",
       "\n",
       "       [[186, 180, 169],\n",
       "        [186, 180, 169],\n",
       "        [187, 181, 170],\n",
       "        ...,\n",
       "        [186, 178, 165],\n",
       "        [186, 178, 165],\n",
       "        [186, 178, 165]],\n",
       "\n",
       "       ...,\n",
       "\n",
       "       [[243, 240, 226],\n",
       "        [242, 239, 225],\n",
       "        [242, 239, 225],\n",
       "        ...,\n",
       "        [243, 236, 219],\n",
       "        [241, 234, 217],\n",
       "        [242, 235, 218]],\n",
       "\n",
       "       [[243, 240, 226],\n",
       "        [242, 239, 225],\n",
       "        [242, 239, 225],\n",
       "        ...,\n",
       "        [243, 236, 219],\n",
       "        [241, 234, 217],\n",
       "        [242, 235, 218]],\n",
       "\n",
       "       [[244, 241, 227],\n",
       "        [242, 239, 225],\n",
       "        [242, 239, 225],\n",
       "        ...,\n",
       "        [243, 236, 219],\n",
       "        [241, 234, 217],\n",
       "        [242, 235, 218]]], dtype=uint8)"
      ]
     },
     "execution_count": 4,
     "metadata": {},
     "output_type": "execute_result"
    }
   ],
   "source": [
    "img"
   ]
  },
  {
   "cell_type": "code",
   "execution_count": 5,
   "metadata": {},
   "outputs": [],
   "source": [
    "img_gray = cv2.cvtColor(img,cv2.COLOR_BGR2GRAY)"
   ]
  },
  {
   "cell_type": "code",
   "execution_count": 6,
   "metadata": {},
   "outputs": [
    {
     "data": {
      "text/plain": [
       "array([[178, 178, 178, ..., 176, 175, 175],\n",
       "       [177, 177, 178, ..., 175, 175, 175],\n",
       "       [177, 177, 178, ..., 175, 175, 175],\n",
       "       ...,\n",
       "       [236, 235, 235, ..., 232, 230, 231],\n",
       "       [236, 235, 235, ..., 232, 230, 231],\n",
       "       [237, 235, 235, ..., 232, 230, 231]], dtype=uint8)"
      ]
     },
     "execution_count": 6,
     "metadata": {},
     "output_type": "execute_result"
    }
   ],
   "source": [
    "img_gray"
   ]
  },
  {
   "cell_type": "code",
   "execution_count": 7,
   "metadata": {},
   "outputs": [],
   "source": [
    "detections = faces.detectMultiScale(img_gray,scaleFactor=1.1,minNeighbors=6)"
   ]
  },
  {
   "cell_type": "code",
   "execution_count": 8,
   "metadata": {},
   "outputs": [
    {
     "name": "stdout",
     "output_type": "stream",
     "text": [
      "[[305  78 223 223]]\n"
     ]
    }
   ],
   "source": [
    "#2D Array representing face\n",
    "print(detections)"
   ]
  },
  {
   "cell_type": "code",
   "execution_count": 9,
   "metadata": {},
   "outputs": [
    {
     "data": {
      "text/plain": [
       "-1"
      ]
     },
     "execution_count": 9,
     "metadata": {},
     "output_type": "execute_result"
    }
   ],
   "source": [
    "for x,y,w,h in detections:\n",
    "    cv2.rectangle(img,(x,y),(x+w,y+h),(0,255,0),2)\n",
    "    \n",
    "cv2.imshow(\"output\",img)\n",
    "cv2.waitKey(0)"
   ]
  },
  {
   "cell_type": "code",
   "execution_count": null,
   "metadata": {},
   "outputs": [],
   "source": []
  }
 ],
 "metadata": {
  "kernelspec": {
   "display_name": "Python 3",
   "language": "python",
   "name": "python3"
  },
  "language_info": {
   "codemirror_mode": {
    "name": "ipython",
    "version": 3
   },
   "file_extension": ".py",
   "mimetype": "text/x-python",
   "name": "python",
   "nbconvert_exporter": "python",
   "pygments_lexer": "ipython3",
   "version": "3.7.6"
  }
 },
 "nbformat": 4,
 "nbformat_minor": 4
}
